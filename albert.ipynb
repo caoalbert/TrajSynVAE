{
 "cells": [
  {
   "cell_type": "code",
   "execution_count": 1,
   "metadata": {},
   "outputs": [],
   "source": [
    "import pandas as pd\n",
    "import numpy as np\n",
    "from datetime import datetime\n",
    "import pytz\n",
    "import pickle\n",
    "from tqdm import tqdm\n",
    "import warnings\n",
    "import time\n",
    "import torch"
   ]
  },
  {
   "cell_type": "code",
   "execution_count": 8,
   "metadata": {},
   "outputs": [],
   "source": [
    "with open('../DeepTimeGeo/trained_models/rb_0711_mask_0/data/training_set.pkl', 'rb') as f:\n",
    "    loc_np, time_x, poi_x, uid, loc_y, loc_y_exploration, is_commuter, rank_dist, selected_home_rank, selected_work_rank = pickle.load(f)\n",
    "key_table = pd.read_csv('../DeepTimeGeo/data/coral_gables/0708_r45_100/coral_gables_dict.csv')[['id', 'lon_x', 'lat_x', 'rank']]"
   ]
  },
  {
   "cell_type": "code",
   "execution_count": 9,
   "metadata": {},
   "outputs": [],
   "source": [
    "loc_np = np.array(loc_np)\n",
    "uid_np = np.array(uid)"
   ]
  },
  {
   "cell_type": "code",
   "execution_count": 43,
   "metadata": {},
   "outputs": [],
   "source": [
    "arr_id = np.repeat(uid_np, loc_np.shape[1])\n",
    "arr_loc = loc_np.flatten()\n",
    "arr_time = time_x.flatten()*60\n",
    "arr_day_id = np.tile(np.repeat(np.arange(14), 24), loc_np.shape[0]).flatten()"
   ]
  },
  {
   "cell_type": "code",
   "execution_count": 75,
   "metadata": {},
   "outputs": [],
   "source": [
    "filled = pd.DataFrame({'id': arr_id, 'rank': arr_loc, 'time': arr_time, 'day': arr_day_id}, dtype='int64')\n",
    "merged = pd.merge(filled, key_table, on=['id', 'rank'], how='left')\n",
    "loc_key = merged[['lon_x', 'lat_x']].drop_duplicates().reset_index(drop=True).reset_index()\n",
    "final = pd.merge(merged, loc_key, on=['lon_x', 'lat_x'], how='left')\n",
    "final = final.dropna().reset_index(drop=True)"
   ]
  },
  {
   "cell_type": "code",
   "execution_count": 92,
   "metadata": {},
   "outputs": [],
   "source": [
    "gps = np.array([loc_key['lat_x'], loc_key['lon_x']]).T\n",
    "np.save('Code/data/ccg/gps.npy', gps)"
   ]
  },
  {
   "cell_type": "code",
   "execution_count": 71,
   "metadata": {},
   "outputs": [],
   "source": [
    "stay_end = final.groupby(['id','day']).shift(-1).fillna(1440)['time']\n",
    "final['sta_time'] = stay_end - final['time']\n",
    "final = final[['id', 'index', 'time', 'sta_time']]\n",
    "final = final.rename(columns={'id':'usr', 'index': 'loc', 'time': 'tim', 'sta_time': 'sta'})\n",
    "final.to_csv('Code/data/ccg/TrajSynVAE_input.csv', index=False)"
   ]
  },
  {
   "cell_type": "code",
   "execution_count": 90,
   "metadata": {},
   "outputs": [
    {
     "data": {
      "text/html": [
       "<div>\n",
       "<style scoped>\n",
       "    .dataframe tbody tr th:only-of-type {\n",
       "        vertical-align: middle;\n",
       "    }\n",
       "\n",
       "    .dataframe tbody tr th {\n",
       "        vertical-align: top;\n",
       "    }\n",
       "\n",
       "    .dataframe thead th {\n",
       "        text-align: right;\n",
       "    }\n",
       "</style>\n",
       "<table border=\"1\" class=\"dataframe\">\n",
       "  <thead>\n",
       "    <tr style=\"text-align: right;\">\n",
       "      <th></th>\n",
       "      <th>index</th>\n",
       "      <th>lon_x</th>\n",
       "      <th>lat_x</th>\n",
       "    </tr>\n",
       "  </thead>\n",
       "  <tbody>\n",
       "    <tr>\n",
       "      <th>0</th>\n",
       "      <td>0</td>\n",
       "      <td>NaN</td>\n",
       "      <td>NaN</td>\n",
       "    </tr>\n",
       "    <tr>\n",
       "      <th>1</th>\n",
       "      <td>1</td>\n",
       "      <td>-80.274</td>\n",
       "      <td>25.776</td>\n",
       "    </tr>\n",
       "    <tr>\n",
       "      <th>2</th>\n",
       "      <td>2</td>\n",
       "      <td>-80.305</td>\n",
       "      <td>25.770</td>\n",
       "    </tr>\n",
       "    <tr>\n",
       "      <th>3</th>\n",
       "      <td>3</td>\n",
       "      <td>-80.274</td>\n",
       "      <td>25.769</td>\n",
       "    </tr>\n",
       "    <tr>\n",
       "      <th>4</th>\n",
       "      <td>4</td>\n",
       "      <td>-80.237</td>\n",
       "      <td>25.779</td>\n",
       "    </tr>\n",
       "    <tr>\n",
       "      <th>...</th>\n",
       "      <td>...</td>\n",
       "      <td>...</td>\n",
       "      <td>...</td>\n",
       "    </tr>\n",
       "    <tr>\n",
       "      <th>81246</th>\n",
       "      <td>81246</td>\n",
       "      <td>-80.282</td>\n",
       "      <td>25.918</td>\n",
       "    </tr>\n",
       "    <tr>\n",
       "      <th>81247</th>\n",
       "      <td>81247</td>\n",
       "      <td>-80.145</td>\n",
       "      <td>25.941</td>\n",
       "    </tr>\n",
       "    <tr>\n",
       "      <th>81248</th>\n",
       "      <td>81248</td>\n",
       "      <td>-80.153</td>\n",
       "      <td>25.891</td>\n",
       "    </tr>\n",
       "    <tr>\n",
       "      <th>81249</th>\n",
       "      <td>81249</td>\n",
       "      <td>-80.305</td>\n",
       "      <td>25.515</td>\n",
       "    </tr>\n",
       "    <tr>\n",
       "      <th>81250</th>\n",
       "      <td>81250</td>\n",
       "      <td>-80.370</td>\n",
       "      <td>25.454</td>\n",
       "    </tr>\n",
       "  </tbody>\n",
       "</table>\n",
       "<p>81251 rows × 3 columns</p>\n",
       "</div>"
      ],
      "text/plain": [
       "       index   lon_x   lat_x\n",
       "0          0     NaN     NaN\n",
       "1          1 -80.274  25.776\n",
       "2          2 -80.305  25.770\n",
       "3          3 -80.274  25.769\n",
       "4          4 -80.237  25.779\n",
       "...      ...     ...     ...\n",
       "81246  81246 -80.282  25.918\n",
       "81247  81247 -80.145  25.941\n",
       "81248  81248 -80.153  25.891\n",
       "81249  81249 -80.305  25.515\n",
       "81250  81250 -80.370  25.454\n",
       "\n",
       "[81251 rows x 3 columns]"
      ]
     },
     "execution_count": 90,
     "metadata": {},
     "output_type": "execute_result"
    }
   ],
   "source": [
    "loc_key"
   ]
  }
 ],
 "metadata": {
  "kernelspec": {
   "display_name": "Python 3",
   "language": "python",
   "name": "python3"
  },
  "language_info": {
   "codemirror_mode": {
    "name": "ipython",
    "version": 3
   },
   "file_extension": ".py",
   "mimetype": "text/x-python",
   "name": "python",
   "nbconvert_exporter": "python",
   "pygments_lexer": "ipython3",
   "version": "3.11.5"
  }
 },
 "nbformat": 4,
 "nbformat_minor": 2
}
